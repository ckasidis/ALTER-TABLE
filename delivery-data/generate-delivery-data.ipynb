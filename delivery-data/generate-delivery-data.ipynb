{
 "cells": [
  {
   "cell_type": "code",
   "execution_count": null,
   "metadata": {},
   "outputs": [],
   "source": [
    "import numpy as np\n",
    "import pandas as pd\n",
    "\n",
    "import tensorflow as tf\n",
    "from tensorflow.keras import layers\n",
    "\n",
    "from sklearn.model_selection import train_test_split"
   ]
  },
  {
   "cell_type": "code",
   "execution_count": null,
   "metadata": {},
   "outputs": [],
   "source": [
    "path = [0, 1, 2, 3, 8, 10, 9, 7, 6, 5, 4, 0]\n",
    "order = [0, 1, 2, 3, 10, 9, 8, 7, 4, 6, 5]\n",
    "cumTime = [0, 14, 19, 22, 29, 39, 43, 47, 51, 56, 60, 73]\n",
    "cumDistance = [0, 5.6, 7.4, 8.6, 10.7, 13.2, 14.2, 15.2, 16.1, 17.4, 18.1, 22.5]"
   ]
  },
  {
   "cell_type": "code",
   "execution_count": null,
   "metadata": {},
   "outputs": [],
   "source": [
    "def time_estimation(ggmap_time, numStop, numCustomer, timePerStop=5, timePerCustomer=2):\n",
    "\n",
    "    estimation = ggmap_time * 1.1 + timePerStop * numStop + timePerCustomer * numCustomer\n",
    "    estimation = estimation + (np.abs(np.random.normal(0, 0.2)) - 0.1) * estimation\n",
    "\n",
    "    return np.round(estimation, 0)"
   ]
  },
  {
   "cell_type": "code",
   "execution_count": null,
   "metadata": {},
   "outputs": [],
   "source": [
    "df = pd.read_csv(\"./user-data.csv\")\n",
    "df = df.drop(['Unnamed: 0'], axis=1)\n",
    "\n",
    "df.head()"
   ]
  },
  {
   "cell_type": "code",
   "execution_count": null,
   "metadata": {},
   "outputs": [],
   "source": [
    "cumCustomer = [0] + list(df.groupby(\"addressID\").count().userID.cumsum())"
   ]
  },
  {
   "cell_type": "code",
   "execution_count": null,
   "metadata": {},
   "outputs": [],
   "source": [
    "df[\"timeEstimation\"] = df.apply(lambda x: time_estimation(cumTime[order[x.addressID]], order[x.addressID], cumCustomer[x.addressID]), axis=1)"
   ]
  },
  {
   "cell_type": "code",
   "execution_count": null,
   "metadata": {},
   "outputs": [],
   "source": [
    "df.head()"
   ]
  },
  {
   "cell_type": "code",
   "execution_count": null,
   "metadata": {},
   "outputs": [],
   "source": [
    "train, test = train_test_split(df, test_size=0.2)"
   ]
  },
  {
   "cell_type": "code",
   "execution_count": null,
   "metadata": {},
   "outputs": [],
   "source": [
    "train"
   ]
  },
  {
   "cell_type": "code",
   "execution_count": null,
   "metadata": {},
   "outputs": [],
   "source": [
    "df.head()"
   ]
  },
  {
   "cell_type": "code",
   "execution_count": null,
   "metadata": {},
   "outputs": [],
   "source": [
    "df.apply(lambda x: time_estimation(cumTime[order[int(x.addressID)]], order[int(x.addressID)], cumCustomer[int(x.addressID)]), axis=1)"
   ]
  },
  {
   "cell_type": "code",
   "execution_count": null,
   "metadata": {},
   "outputs": [],
   "source": [
    "df_new = pd.DataFrame({\"ggmap_time\":np.array([0 for _ in range(100)])})\n",
    "df_new[\"ggmap_time\"] = df.apply(lambda x: cumTime[order[int(x.addressID)]], axis=1)\n",
    "df_new[\"numStop\"] = df.apply(lambda x: order[int(x.addressID)], axis=1)\n",
    "df_new[\"numCustomer\"] = df.apply(lambda x: cumCustomer[int(x.addressID)], axis=1)\n",
    "df_new[\"timeEstimation\"] = df.apply(lambda x: time_estimation(cumTime[order[int(x.addressID)]], order[int(x.addressID)], cumCustomer[int(x.addressID)]), axis=1)\n",
    "df_new.head()"
   ]
  },
  {
   "cell_type": "code",
   "execution_count": null,
   "metadata": {},
   "outputs": [],
   "source": [
    "df_new.to_csv(\"delivery-training-data.csv\")"
   ]
  },
  {
   "cell_type": "code",
   "execution_count": null,
   "metadata": {},
   "outputs": [],
   "source": [
    "df_new[\"timeEstimation\"] = 0\n",
    "# df.apply(lambda x: time_estimation(cumTime[order[x.addressID]], order[x.addressID], cumCustomer[x.addressID]), axis=1)\n"
   ]
  },
  {
   "cell_type": "code",
   "execution_count": null,
   "metadata": {},
   "outputs": [],
   "source": []
  },
  {
   "cell_type": "code",
   "execution_count": null,
   "metadata": {},
   "outputs": [],
   "source": [
    "train_features = train.copy()\n",
    "train_labels = train_features.pop('timeEstimation')\n",
    "train_features.pop(\"userID\")\n",
    "train_features = np.array(train_features)\n",
    "address = train_features[:, 1]\n",
    "train_features[:, 0] = np.array(list(map(lambda x: cumTime[order[x]], address)))\n",
    "train_features[:, 1] = np.array(list(map(lambda x: order[x], address)))\n",
    "train_features[:, 2] = np.array(list(map(lambda x: cumCustomer[x], address)))\n",
    "\n",
    "\n",
    "test_features = test.copy()\n",
    "test_labels = test_features.pop('timeEstimation')\n",
    "test_features.pop(\"userID\")\n",
    "test_features = np.array(test_features)\n",
    "address = test_features[:, 1]\n",
    "test_features[:, 0] = np.array(list(map(lambda x: cumTime[order[x]], address)))\n",
    "test_features[:, 1] = np.array(list(map(lambda x: order[x], address)))\n",
    "test_features[:, 2] = np.array(list(map(lambda x: cumCustomer[x], address)))"
   ]
  },
  {
   "cell_type": "code",
   "execution_count": null,
   "metadata": {},
   "outputs": [],
   "source": [
    "normalize = layers.Normalization()\n",
    "normalize.adapt(train_features)"
   ]
  },
  {
   "cell_type": "code",
   "execution_count": null,
   "metadata": {},
   "outputs": [],
   "source": [
    "model = tf.keras.Sequential([\n",
    "  # normalize,\n",
    "  layers.Dense(64),\n",
    "  layers.ReLU(),\n",
    "  layers.Dense(512),\n",
    "  layers.ReLU(),\n",
    "  layers.Dense(512),\n",
    "  layers.ReLU(),\n",
    "  layers.Dense(32),\n",
    "  layers.ReLU(),\n",
    "  layers.Dense(1)\n",
    "])\n",
    "\n",
    "model.compile(loss = tf.keras.losses.MeanSquaredError(),\n",
    "              optimizer = tf.keras.optimizers.Adam())\n",
    "\n",
    "model.fit(train_features, train_labels, epochs=1000)"
   ]
  },
  {
   "cell_type": "code",
   "execution_count": null,
   "metadata": {},
   "outputs": [],
   "source": [
    "model.trainable = False"
   ]
  },
  {
   "cell_type": "code",
   "execution_count": null,
   "metadata": {},
   "outputs": [],
   "source": [
    "model.evaluate(test_features, test_labels)"
   ]
  },
  {
   "cell_type": "code",
   "execution_count": null,
   "metadata": {},
   "outputs": [],
   "source": [
    "df_test = pd.DataFrame({'estimatedTime': test_labels, 'modelTime': np.array(model(test_features))[:, 0]})\n",
    "df_test[\"pctError\"] = abs((df_test.modelTime / df_test.estimatedTime) * 100 - 100)\n",
    "\n",
    "df_test.head()"
   ]
  },
  {
   "cell_type": "code",
   "execution_count": null,
   "metadata": {},
   "outputs": [],
   "source": [
    "df_test.replace([np.inf, -np.inf], 0, inplace=True)"
   ]
  },
  {
   "cell_type": "code",
   "execution_count": null,
   "metadata": {},
   "outputs": [],
   "source": [
    "df_test.pctError.mean()"
   ]
  },
  {
   "cell_type": "code",
   "execution_count": null,
   "metadata": {},
   "outputs": [],
   "source": [
    "model.save('./model/model.h5')"
   ]
  },
  {
   "cell_type": "code",
   "execution_count": null,
   "metadata": {},
   "outputs": [],
   "source": [
    "model.save('./testsave/model')"
   ]
  },
  {
   "cell_type": "code",
   "execution_count": null,
   "metadata": {},
   "outputs": [],
   "source": [
    "import onnx\n",
    "import keras2onnx\n",
    "\n",
    "onnx_model = keras2onnx.convert_keras(model, model.name)\n",
    "onnx.save_model(onnx_model, \"test.onnx\")"
   ]
  },
  {
   "cell_type": "code",
   "execution_count": null,
   "metadata": {},
   "outputs": [],
   "source": []
  }
 ],
 "metadata": {
  "kernelspec": {
   "display_name": "Python 3",
   "language": "python",
   "name": "python3"
  },
  "language_info": {
   "codemirror_mode": {
    "name": "ipython",
    "version": 3
   },
   "file_extension": ".py",
   "mimetype": "text/x-python",
   "name": "python",
   "nbconvert_exporter": "python",
   "pygments_lexer": "ipython3",
   "version": "3.9.13"
  },
  "orig_nbformat": 4,
  "vscode": {
   "interpreter": {
    "hash": "26d3762b9d0176b8fc882a207ad3a3c4ac6093affecc9a65d77d9c770ff8bf4c"
   }
  }
 },
 "nbformat": 4,
 "nbformat_minor": 2
}
