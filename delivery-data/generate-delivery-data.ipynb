{
 "cells": [
  {
   "cell_type": "code",
   "execution_count": null,
   "metadata": {},
   "outputs": [],
   "source": [
    "import numpy as np"
   ]
  }
 ],
 "metadata": {
  "kernelspec": {
   "display_name": "Python 3",
   "language": "python",
   "name": "python3"
  },
  "language_info": {
   "name": "python",
   "version": "3.9.13"
  },
  "orig_nbformat": 4,
  "vscode": {
   "interpreter": {
    "hash": "26d3762b9d0176b8fc882a207ad3a3c4ac6093affecc9a65d77d9c770ff8bf4c"
   }
  }
 },
 "nbformat": 4,
 "nbformat_minor": 2
}
